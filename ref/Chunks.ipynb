{
 "cells": [
  {
   "cell_type": "markdown",
   "id": "382e971e-e6eb-44e6-8db1-0b8809fd2ba8",
   "metadata": {},
   "source": [
    "# Generating Chunks\n",
    "\n",
    "Date: 2024/10/05, 2024/11/25"
   ]
  },
  {
   "cell_type": "markdown",
   "id": "f85ed56a-30e9-4a37-80aa-c0097a0be364",
   "metadata": {},
   "source": [
    "## Chunks (paragraph-basis)"
   ]
  },
  {
   "cell_type": "code",
   "execution_count": 1,
   "id": "c7c4b649-b27e-4334-a7cb-a17f68e91606",
   "metadata": {},
   "outputs": [],
   "source": [
    "import glob\n",
    "\n",
    "# Reference documents\n",
    "REF_DOCS = \"./virtual_showroom/*.txt\""
   ]
  },
  {
   "cell_type": "code",
   "execution_count": 2,
   "id": "be16ef9f-6f5c-45ef-b9be-90ee953d24a4",
   "metadata": {},
   "outputs": [],
   "source": [
    "docs = {}\n",
    "\n",
    "for path in glob.glob(REF_DOCS):\n",
    "    with open(path, 'r') as f:\n",
    "        filename = path.split('/')[-1]\n",
    "        collection = filename.split('.')[0]\n",
    "        doc = f.read()\n",
    "        docs[collection] = doc"
   ]
  },
  {
   "cell_type": "code",
   "execution_count": 3,
   "id": "fc87d040-c8eb-41d7-8212-0fe25c08d680",
   "metadata": {},
   "outputs": [
    {
     "data": {
      "text/plain": [
       "\"Hanseatic Square (Hanseplatz), located in Hamburg, Germany, holds great historical and cultural significance, reflecting the rich heritage of the Hanseatic League. As one of the most prominent open spaces in the city, Hanseplatz is not only a popular destination for tourists but also a key location for locals to gather, socialize, and participate in various public events. This vast public square is symbolic of Hamburg's maritime legacy and its status as a former Hanseatic city. To understand its importance, we need to explore both the history of the Hanseatic League and how this historical connection is manifested in Hanseatic Square.\\n\\n### Historical Context: The Hanseatic League\\n\\nThe Hanseatic League was a powerful economic and political alliance of merchant guilds and market towns in northern Europe, which flourished between the 13th and 17th centuries. At its peak, the League comprised over 200 cities across the Baltic Sea and North Sea regions. Hamburg, along with Lübeck and Bremen\""
      ]
     },
     "execution_count": 3,
     "metadata": {},
     "output_type": "execute_result"
    }
   ],
   "source": [
    "docs['hansaplatz'][:1000]"
   ]
  },
  {
   "cell_type": "code",
   "execution_count": 4,
   "id": "44a36ad9-d383-4372-b37f-6e01fb5c64cb",
   "metadata": {},
   "outputs": [
    {
     "name": "stdout",
     "output_type": "stream",
     "text": [
      "[\"Hanseatic Square (Hanseplatz), located in Hamburg, Germany, holds great historical and cultural significance, reflecting the rich heritage of the Hanseatic League. As one of the most prominent open spaces in the city, Hanseplatz is not only a popular destination for tourists but also a key location for locals to gather, socialize, and participate in various public events. This vast public square is symbolic of Hamburg's maritime legacy and its status as a former Hanseatic city. To understand its importance, we need to explore both the history of the Hanseatic League and how this historical connection is manifested in Hanseatic Square.\", '### Historical Context: The Hanseatic League', \"The Hanseatic League was a powerful economic and political alliance of merchant guilds and market towns in northern Europe, which flourished between the 13th and 17th centuries. At its peak, the League comprised over 200 cities across the Baltic Sea and North Sea regions. Hamburg, along with Lübeck and Bremen, was one of the most important members of this alliance, acting as a critical hub for trade and commerce. The League's merchants traded goods such as grain, fish, furs, timber, and cloth, establishing a vast network of maritime trade routes that connected Europe with regions as far as Russia, England, and even parts of Scandinavia.\"]\n"
     ]
    }
   ],
   "source": [
    "print(docs['hansaplatz'].replace('\\n\\n', '\\n').split('\\n')[:3])"
   ]
  },
  {
   "cell_type": "code",
   "execution_count": 5,
   "id": "5c9fa9ad-855b-49ac-9126-50e844d9a7ce",
   "metadata": {},
   "outputs": [
    {
     "name": "stdout",
     "output_type": "stream",
     "text": [
      "Max chunk size of \"hansaplatz\": 436\n",
      "Max chunk size of \"yokohama\": 462\n",
      "Max chunk size of \"hamburg_station\": 361\n",
      "Max chunk size of \"takanawa_gateway_station\": 404\n",
      "Max chunk size of \"dresden_station\": 190\n"
     ]
    }
   ],
   "source": [
    "all_chunks = {}\n",
    "\n",
    "for collection, doc in docs.items():\n",
    "    chunks = doc.replace('\\n\\n', '\\n').split('\\n')\n",
    "    chunks = [c for c in chunks if c != \"\" and not c.startswith('###')]\n",
    "    print(f'Max chunk size of \"{collection}\": {len(max(chunks))}')\n",
    "    all_chunks[collection] = chunks"
   ]
  },
  {
   "cell_type": "markdown",
   "id": "39fd493d-3691-41be-9515-6943a8b1335e",
   "metadata": {},
   "source": [
    "## Saving chunks in SQLite"
   ]
  },
  {
   "cell_type": "code",
   "execution_count": 6,
   "id": "f5289446-2676-4528-afc4-9d146fca9787",
   "metadata": {},
   "outputs": [],
   "source": [
    "#import sys\n",
    "#sys.path.append(\"../rag\")\n",
    "\n",
    "import sqlite3\n",
    "\n",
    "DB_PATH = \"../database/chunks.db\""
   ]
  },
  {
   "cell_type": "code",
   "execution_count": 7,
   "id": "b8a60ad3-04a5-47f7-86dd-ab295ba3cd9f",
   "metadata": {
    "scrolled": true
   },
   "outputs": [
    {
     "name": "stdout",
     "output_type": "stream",
     "text": [
      "84 \n",
      " [[0, 'hansaplatz', \"Hanseatic Square (Hanseplatz), located in Hamburg, Germany, holds great historical and cultural significance, reflecting the rich heritage of the Hanseatic League. As one of the most prominent open spaces in the city, Hanseplatz is not only a popular destination for tourists but also a key location for locals to gather, socialize, and participate in various public events. This vast public square is symbolic of Hamburg's maritime legacy and its status as a former Hanseatic city. To understand its importance, we need to explore both the history of the Hanseatic League and how this historical connection is manifested in Hanseatic Square.\"]] \n",
      " [[82, 'dresden_station', 'Looking ahead, Dresden Hauptbahnhof is expected to play an even larger role in European transportation as high-speed rail connections across the continent continue to expand. Its location in the heart of Europe positions it to become an even more critical junction for both passengers and freight, linking Western and Eastern Europe.'], [83, 'dresden_station', 'In summary, Dresden Hauptbahnhof is a station rich in history, architectural significance, and modern relevance. It not only serves as a key transportation hub in Germany but also as a symbol of Dresden’s resilience and its place in the broader European context. As it continues to evolve, it will likely remain an essential part of both the city and the continent’s railway networks for years to come.']]\n"
     ]
    }
   ],
   "source": [
    "i = 0\n",
    "\n",
    "records = []\n",
    "\n",
    "for collection, chunks in all_chunks.items():\n",
    "    record = [[i+j, collection, chunks[j]] for j in range(len(chunks))]\n",
    "    records.extend(record)    \n",
    "    i += len(chunks)\n",
    "\n",
    "print(len(records), '\\n', records[:1], '\\n', records[-2:])"
   ]
  },
  {
   "cell_type": "code",
   "execution_count": 8,
   "id": "2b8b434a-2807-4321-9597-a8300d5ba03c",
   "metadata": {},
   "outputs": [],
   "source": [
    "with sqlite3.connect(DB_PATH) as conn:\n",
    "    cur = conn.cursor()\n",
    "    cur.execute(\"CREATE TABLE IF NOT EXISTS chunks (id INTEGER, collection TEXT, chunk TEXT)\")\n",
    "    cur.execute(\"DELETE FROM chunks\")\n",
    "    cur.executemany(\"INSERT INTO chunks VALUES (?, ?, ?)\", records)"
   ]
  }
 ],
 "metadata": {
  "kernelspec": {
   "display_name": "Python 3 (ipykernel)",
   "language": "python",
   "name": "python3"
  },
  "language_info": {
   "codemirror_mode": {
    "name": "ipython",
    "version": 3
   },
   "file_extension": ".py",
   "mimetype": "text/x-python",
   "name": "python",
   "nbconvert_exporter": "python",
   "pygments_lexer": "ipython3",
   "version": "3.11.4"
  }
 },
 "nbformat": 4,
 "nbformat_minor": 5
}
