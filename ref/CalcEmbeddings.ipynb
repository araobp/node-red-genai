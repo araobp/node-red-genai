{
 "cells": [
  {
   "cell_type": "markdown",
   "id": "6fb0b523-17b1-489c-a003-e46fcfb3edaf",
   "metadata": {},
   "source": [
    "# Calc embeddings\n",
    "\n",
    "Date: 2024/11/25"
   ]
  },
  {
   "cell_type": "code",
   "execution_count": 2,
   "id": "99f24207-6519-4d7b-822b-0bb50480ff7f",
   "metadata": {},
   "outputs": [],
   "source": [
    "import sys\n",
    "sys.path.append(\"./search\")\n",
    "\n",
    "import sqlite3\n",
    "import embeddings\n",
    "import vector_db"
   ]
  },
  {
   "cell_type": "code",
   "execution_count": 3,
   "id": "f70b9042-c09f-4131-93cb-41009c68909e",
   "metadata": {},
   "outputs": [],
   "source": [
    "CHUNKS_DB_PATH = \"../database/chunks.db\"\n",
    "EMBEDDINGS_DB_PATH = \"../database/embeddings.db\""
   ]
  },
  {
   "cell_type": "code",
   "execution_count": 4,
   "id": "346556ba-4221-4e09-8fa9-16799c389981",
   "metadata": {},
   "outputs": [],
   "source": [
    "# Read all the chunks\n",
    "with sqlite3.connect(CHUNKS_DB_PATH) as conn:\n",
    "    cur = conn.cursor()\n",
    "    records = cur.execute(\"SELECT id, collection, chunk FROM chunks\").fetchall()"
   ]
  },
  {
   "cell_type": "code",
   "execution_count": 5,
   "id": "95fc8e79-8e08-4d50-a140-1d46d93ad67f",
   "metadata": {},
   "outputs": [],
   "source": [
    "data = {}\n",
    "\n",
    "for r in records:\n",
    "    collection = r[1]\n",
    "    if collection not in data:\n",
    "        data[collection] = []\n",
    "    data[collection].append([r[0], r[2]])\n",
    "\n",
    "N = 10  # Batch size for embeddings calculation"
   ]
  },
  {
   "cell_type": "code",
   "execution_count": 6,
   "id": "0845e6c7-4679-44fa-96de-e58ae848a693",
   "metadata": {},
   "outputs": [
    {
     "name": "stdout",
     "output_type": "stream",
     "text": [
      "Collection: hansaplatz\n",
      "Collection: yokohama\n",
      "Collection: hamburg_station\n",
      "Collection: takanawa_gateway_station\n",
      "Collection: dresden_station\n",
      "Saving the data in the database...\n"
     ]
    },
    {
     "ename": "AttributeError",
     "evalue": "'sqlite3.Connection' object has no attribute 'enable_load_extension'",
     "output_type": "error",
     "traceback": [
      "\u001b[0;31m---------------------------------------------------------------------------\u001b[0m",
      "\u001b[0;31mAttributeError\u001b[0m                            Traceback (most recent call last)",
      "Cell \u001b[0;32mIn[6], line 17\u001b[0m\n\u001b[1;32m     15\u001b[0m \u001b[38;5;28mprint\u001b[39m(\u001b[38;5;124m\"\u001b[39m\u001b[38;5;124mSaving the data in the database...\u001b[39m\u001b[38;5;124m\"\u001b[39m)\n\u001b[1;32m     16\u001b[0m \u001b[38;5;28;01mfor\u001b[39;00m collection, items \u001b[38;5;129;01min\u001b[39;00m records\u001b[38;5;241m.\u001b[39mitems():\n\u001b[0;32m---> 17\u001b[0m     col_db \u001b[38;5;241m=\u001b[39m \u001b[43mvector_db\u001b[49m\u001b[38;5;241;43m.\u001b[39;49m\u001b[43mVectorDB\u001b[49m\u001b[43m(\u001b[49m\u001b[43mEMBEDDINGS_DB_PATH\u001b[49m\u001b[43m,\u001b[49m\u001b[43m \u001b[49m\u001b[43mcollection\u001b[49m\u001b[43m,\u001b[49m\u001b[43m \u001b[49m\u001b[43membeddings\u001b[49m\u001b[38;5;241;43m.\u001b[39;49m\u001b[43mDIMENSION\u001b[49m\u001b[43m)\u001b[49m\n\u001b[1;32m     18\u001b[0m     col_db\u001b[38;5;241m.\u001b[39msave(items)\n",
      "File \u001b[0;32m~/Documents/GitHub/node-red-genai/ref/./search/vector_db/__init__.py:25\u001b[0m, in \u001b[0;36mVectorDB.__init__\u001b[0;34m(self, db_path, collection, dimensions)\u001b[0m\n\u001b[1;32m     23\u001b[0m \u001b[38;5;28mself\u001b[39m\u001b[38;5;241m.\u001b[39mdb_path \u001b[38;5;241m=\u001b[39m db_path\n\u001b[1;32m     24\u001b[0m \u001b[38;5;28mself\u001b[39m\u001b[38;5;241m.\u001b[39mdb \u001b[38;5;241m=\u001b[39m sqlite3\u001b[38;5;241m.\u001b[39mconnect(db_path)\n\u001b[0;32m---> 25\u001b[0m \u001b[38;5;28;43mself\u001b[39;49m\u001b[38;5;241;43m.\u001b[39;49m\u001b[43mdb\u001b[49m\u001b[38;5;241;43m.\u001b[39;49m\u001b[43menable_load_extension\u001b[49m(\u001b[38;5;28;01mTrue\u001b[39;00m)\n\u001b[1;32m     26\u001b[0m sqlite_vec\u001b[38;5;241m.\u001b[39mload(\u001b[38;5;28mself\u001b[39m\u001b[38;5;241m.\u001b[39mdb)\n\u001b[1;32m     27\u001b[0m \u001b[38;5;28mself\u001b[39m\u001b[38;5;241m.\u001b[39mdb\u001b[38;5;241m.\u001b[39menable_load_extension(\u001b[38;5;28;01mFalse\u001b[39;00m)\n",
      "\u001b[0;31mAttributeError\u001b[0m: 'sqlite3.Connection' object has no attribute 'enable_load_extension'"
     ]
    }
   ],
   "source": [
    "records = {} \n",
    "\n",
    "# Calculate embeddings\n",
    "for collection in data.keys():\n",
    "    print(f\"Collection: {collection}\")\n",
    "    items = data[collection]\n",
    "    for i in range(0, len(items), N):\n",
    "        ids, chunks = zip(*items[i:i+N])\n",
    "        vectors = embeddings.get_embedding(chunks)\n",
    "        if collection not in vectors:\n",
    "            records[collection] = []\n",
    "        records[collection].extend(zip(ids, vectors))\n",
    "\n",
    "# Save the embeddings in a vector database\n",
    "print(\"Saving the data in the database...\")\n",
    "for collection, items in records.items():\n",
    "    col_db = vector_db.VectorDB(EMBEDDINGS_DB_PATH, collection, embeddings.DIMENSION)\n",
    "    col_db.save(items)"
   ]
  }
 ],
 "metadata": {
  "kernelspec": {
   "display_name": "Python 3 (ipykernel)",
   "language": "python",
   "name": "python3"
  },
  "language_info": {
   "codemirror_mode": {
    "name": "ipython",
    "version": 3
   },
   "file_extension": ".py",
   "mimetype": "text/x-python",
   "name": "python",
   "nbconvert_exporter": "python",
   "pygments_lexer": "ipython3",
   "version": "3.11.4"
  }
 },
 "nbformat": 4,
 "nbformat_minor": 5
}
