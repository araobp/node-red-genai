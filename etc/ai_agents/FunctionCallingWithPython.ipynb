{
 "cells": [
  {
   "cell_type": "markdown",
   "id": "5ecb2f1a-8074-4539-b3b4-1f498408d065",
   "metadata": {},
   "source": [
    "# Gemini API: Function calling with Python\n",
    "\n",
    "Date: 2024/12/26\n",
    "\n",
    "Reference: https://github.com/google-gemini/cookbook/blob/main/quickstarts/Function_calling.ipynb\n"
   ]
  },
  {
   "cell_type": "code",
   "execution_count": 1,
   "id": "9152484d-ecf8-4c2b-a6c0-c0478b4447f0",
   "metadata": {},
   "outputs": [
    {
     "name": "stdout",
     "output_type": "stream",
     "text": [
      "\n",
      "\u001b[1m[\u001b[0m\u001b[34;49mnotice\u001b[0m\u001b[1;39;49m]\u001b[0m\u001b[39;49m A new release of pip is available: \u001b[0m\u001b[31;49m23.1.2\u001b[0m\u001b[39;49m -> \u001b[0m\u001b[32;49m24.3.1\u001b[0m\n",
      "\u001b[1m[\u001b[0m\u001b[34;49mnotice\u001b[0m\u001b[1;39;49m]\u001b[0m\u001b[39;49m To update, run: \u001b[0m\u001b[32;49mpip install --upgrade pip\u001b[0m\n"
     ]
    }
   ],
   "source": [
    "!pip install -U -q \"google-generativeai>=0.7.2\"  # Install the Python SDK"
   ]
  },
  {
   "cell_type": "code",
   "execution_count": 2,
   "id": "2489d369-911b-4c50-bac9-61da2f705630",
   "metadata": {},
   "outputs": [
    {
     "name": "stderr",
     "output_type": "stream",
     "text": [
      "/Users/shiny/Documents/GitHub/node-red-genai/etc/ai_agents/venv/lib/python3.11/site-packages/tqdm/auto.py:21: TqdmWarning: IProgress not found. Please update jupyter and ipywidgets. See https://ipywidgets.readthedocs.io/en/stable/user_install.html\n",
      "  from .autonotebook import tqdm as notebook_tqdm\n"
     ]
    }
   ],
   "source": [
    "import google.generativeai as genai"
   ]
  },
  {
   "cell_type": "code",
   "execution_count": 7,
   "id": "21622162-9dde-4869-bffb-7d0d1667a339",
   "metadata": {},
   "outputs": [],
   "source": [
    "import os\n",
    "\n",
    "GOOGLE_API_KEY = os.environ[\"GOOGLE_AI_API_KEY\"]\n",
    "genai.configure(api_key=GOOGLE_API_KEY)"
   ]
  },
  {
   "cell_type": "markdown",
   "id": "44ad1b09-c160-4b03-b62e-e9ebabc6adee",
   "metadata": {},
   "source": [
    "## Function calling basics"
   ]
  },
  {
   "cell_type": "code",
   "execution_count": 9,
   "id": "1d2fb18b-5418-42e7-8246-ea1156536369",
   "metadata": {},
   "outputs": [
    {
     "data": {
      "text/plain": [
       "genai.GenerativeModel(\n",
       "    model_name='models/gemini-1.5-flash',\n",
       "    generation_config={},\n",
       "    safety_settings={},\n",
       "    tools=<google.generativeai.types.content_types.FunctionLibrary object at 0x12483d1d0>,\n",
       "    system_instruction=None,\n",
       "    cached_content=None\n",
       ")"
      ]
     },
     "execution_count": 9,
     "metadata": {},
     "output_type": "execute_result"
    }
   ],
   "source": [
    "def add(a: float, b: float):\n",
    "    \"\"\"returns a + b.\"\"\"\n",
    "    return a + b\n",
    "\n",
    "\n",
    "def subtract(a: float, b: float):\n",
    "    \"\"\"returns a - b.\"\"\"\n",
    "    return a - b\n",
    "\n",
    "\n",
    "def multiply(a: float, b: float):\n",
    "    \"\"\"returns a * b.\"\"\"\n",
    "    return a * b\n",
    "\n",
    "\n",
    "def divide(a: float, b: float):\n",
    "    \"\"\"returns a / b.\"\"\"\n",
    "    return a / b\n",
    "\n",
    "\n",
    "model = genai.GenerativeModel(\n",
    "    model_name=\"gemini-1.5-flash\", tools=[add, subtract, multiply, divide]\n",
    ")\n",
    "\n",
    "model"
   ]
  },
  {
   "cell_type": "markdown",
   "id": "a812d397-7903-4996-9bcf-734f17fe9b75",
   "metadata": {},
   "source": [
    "## Automatic function calling"
   ]
  },
  {
   "cell_type": "code",
   "execution_count": 10,
   "id": "bf0c53fd-b56a-4fe4-9001-ee8139ec94e4",
   "metadata": {},
   "outputs": [],
   "source": [
    "chat = model.start_chat(enable_automatic_function_calling=True)"
   ]
  },
  {
   "cell_type": "code",
   "execution_count": 11,
   "id": "9c539456-f981-477d-868e-469c29f41f07",
   "metadata": {},
   "outputs": [
    {
     "data": {
      "text/plain": [
       "'57 cats * 44 mittens/cat = 2508 mittens in total.\\n'"
      ]
     },
     "execution_count": 11,
     "metadata": {},
     "output_type": "execute_result"
    }
   ],
   "source": [
    "response = chat.send_message(\n",
    "    \"I have 57 cats, each owns 44 mittens, how many mittens is that in total?\"\n",
    ")\n",
    "response.text"
   ]
  },
  {
   "cell_type": "code",
   "execution_count": 12,
   "id": "37cbfb24-3c22-42ef-a08c-547b7844f141",
   "metadata": {},
   "outputs": [
    {
     "data": {
      "text/plain": [
       "2508"
      ]
     },
     "execution_count": 12,
     "metadata": {},
     "output_type": "execute_result"
    }
   ],
   "source": [
    "57 * 44"
   ]
  },
  {
   "cell_type": "code",
   "execution_count": 13,
   "id": "ff657c93-c0c8-46fa-9c0f-e5d4bf4935df",
   "metadata": {},
   "outputs": [
    {
     "name": "stdout",
     "output_type": "stream",
     "text": [
      "user -> [{'text': 'I have 57 cats, each owns 44 mittens, how many mittens is that in total?'}]\n",
      "--------------------------------------------------------------------------------\n",
      "model -> [{'function_call': {'name': 'multiply', 'args': {'a': 57.0, 'b': 44.0}}}]\n",
      "--------------------------------------------------------------------------------\n",
      "user -> [{'function_response': {'name': 'multiply', 'response': {'result': 2508.0}}}]\n",
      "--------------------------------------------------------------------------------\n",
      "model -> [{'text': '57 cats * 44 mittens/cat = 2508 mittens in total.\\n'}]\n",
      "--------------------------------------------------------------------------------\n"
     ]
    }
   ],
   "source": [
    "for content in chat.history:\n",
    "    print(content.role, \"->\", [type(part).to_dict(part) for part in content.parts])\n",
    "    print(\"-\" * 80)"
   ]
  },
  {
   "cell_type": "markdown",
   "id": "7e6fe5dd-f3a6-4061-839d-d503686cca04",
   "metadata": {},
   "source": [
    "## Manual function calling"
   ]
  },
  {
   "cell_type": "code",
   "execution_count": 15,
   "id": "2e6399e8-08aa-4785-9be4-9ec27dfb06f4",
   "metadata": {},
   "outputs": [],
   "source": [
    "def find_movies(description: str, location: str = \"\"):\n",
    "    \"\"\"find movie titles currently playing in theaters based on any description, genre, title words, etc.\n",
    "\n",
    "    Args:\n",
    "        description: Any kind of description including category or genre, title words, attributes, etc.\n",
    "        location: The city and state, e.g. San Francisco, CA or a zip code e.g. 95616\n",
    "    \"\"\"\n",
    "    return [\"Barbie\", \"Oppenheimer\"]\n",
    "\n",
    "\n",
    "def find_theaters(location: str, movie: str = \"\"):\n",
    "    \"\"\"Find theaters based on location and optionally movie title which are is currently playing in theaters.\n",
    "\n",
    "    Args:\n",
    "        location: The city and state, e.g. San Francisco, CA or a zip code e.g. 95616\n",
    "        movie: Any movie title\n",
    "    \"\"\"\n",
    "    return [\"Googleplex 16\", \"Android Theatre\"]\n",
    "\n",
    "\n",
    "def get_showtimes(location: str, movie: str, theater: str, date: str):\n",
    "    \"\"\"\n",
    "    Find the start times for movies playing in a specific theater.\n",
    "\n",
    "    Args:\n",
    "      location: The city and state, e.g. San Francisco, CA or a zip code e.g. 95616\n",
    "      movie: Any movie title\n",
    "      thearer: Name of the theater\n",
    "      date: Date for requested showtime\n",
    "    \"\"\"\n",
    "    return [\"10:00\", \"11:00\"]\n",
    "     "
   ]
  },
  {
   "cell_type": "code",
   "execution_count": 16,
   "id": "bc13f9f3-3012-4382-83ae-3b934a0ff5b2",
   "metadata": {},
   "outputs": [],
   "source": [
    "functions = {\n",
    "    \"find_movies\": find_movies,\n",
    "    \"find_theaters\": find_theaters,\n",
    "    \"get_showtimes\": get_showtimes,\n",
    "}\n",
    "\n",
    "model = genai.GenerativeModel(model_name=\"gemini-1.5-flash\", tools=functions.values())"
   ]
  },
  {
   "cell_type": "code",
   "execution_count": 43,
   "id": "5296cd71-f561-42a8-b0be-38621b9a6dbc",
   "metadata": {},
   "outputs": [],
   "source": [
    "response = model.generate_content(\n",
    "    \"Which theaters in Mountain View show the Barbie movie?\"\n",
    ")\n",
    "part = response.candidates[0].content.parts[0]"
   ]
  },
  {
   "cell_type": "code",
   "execution_count": 44,
   "id": "a9897408-2ab2-49af-b3eb-efbf6af53420",
   "metadata": {},
   "outputs": [
    {
     "data": {
      "text/plain": [
       "name: \"find_theaters\"\n",
       "args {\n",
       "  fields {\n",
       "    key: \"movie\"\n",
       "    value {\n",
       "      string_value: \"Barbie\"\n",
       "    }\n",
       "  }\n",
       "  fields {\n",
       "    key: \"location\"\n",
       "    value {\n",
       "      string_value: \"Mountain View\"\n",
       "    }\n",
       "  }\n",
       "}"
      ]
     },
     "execution_count": 44,
     "metadata": {},
     "output_type": "execute_result"
    }
   ],
   "source": [
    "part.function_call"
   ]
  },
  {
   "cell_type": "code",
   "execution_count": 45,
   "id": "ed5ac189-9a48-4cfd-be4d-2a238f8dd08a",
   "metadata": {},
   "outputs": [
    {
     "name": "stdout",
     "output_type": "stream",
     "text": [
      "['Googleplex 16', 'Android Theatre']\n"
     ]
    }
   ],
   "source": [
    "def call_function(function_call, functions):\n",
    "    function_name = function_call.name\n",
    "    function_args = function_call.args\n",
    "    return functions[function_name](**function_args)\n",
    "\n",
    "\n",
    "part = response.candidates[0].content.parts[0]\n",
    "\n",
    "# Check if it's a function call; in real use you'd need to also handle text\n",
    "# responses as you won't know what the model will respond with.\n",
    "if part.function_call:\n",
    "    result = call_function(part.function_call, functions)\n",
    "\n",
    "print(result)"
   ]
  },
  {
   "cell_type": "code",
   "execution_count": null,
   "id": "8fee4b2c-38a3-4ed4-80f1-eff5e4daf71f",
   "metadata": {},
   "outputs": [],
   "source": []
  }
 ],
 "metadata": {
  "kernelspec": {
   "display_name": "Python 3 (ipykernel)",
   "language": "python",
   "name": "python3"
  },
  "language_info": {
   "codemirror_mode": {
    "name": "ipython",
    "version": 3
   },
   "file_extension": ".py",
   "mimetype": "text/x-python",
   "name": "python",
   "nbconvert_exporter": "python",
   "pygments_lexer": "ipython3",
   "version": "3.11.4"
  }
 },
 "nbformat": 4,
 "nbformat_minor": 5
}
